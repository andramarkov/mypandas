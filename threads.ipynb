{
 "cells": [
  {
   "cell_type": "code",
   "execution_count": null,
   "metadata": {
    "collapsed": true
   },
   "outputs": [],
   "source": [
    "http://www.blog.pythonlibrary.org/2016/07/28/python-201-a-tutorial-on-threads/"
   ]
  },
  {
   "cell_type": "code",
   "execution_count": 1,
   "metadata": {
    "collapsed": false
   },
   "outputs": [
    {
     "name": "stdout",
     "output_type": "stream",
     "text": [
      "Thread-3\n",
      "\n",
      "0\n",
      "()\n",
      "Thread-4\n",
      "\n",
      "2\n",
      "()\n",
      "Thread-5\n",
      "\n",
      "4\n",
      "()\n",
      "Thread-6\n",
      "\n",
      "6\n",
      "()\n"
     ]
    }
   ],
   "source": [
    "import threading\n",
    " \n",
    " \n",
    "def doubler(number):\n",
    "    \"\"\"\n",
    "    A function that can be used by a thread\n",
    "    \"\"\"\n",
    "    print(threading.currentThread().getName() + '\\n')\n",
    "    print(number * 2)\n",
    "    print()\n",
    " \n",
    "\n",
    "for i in range(5):\n",
    "    my_thread = threading.Thread(target=doubler, args=(i,))\n",
    "    my_thread.start()"
   ]
  },
  {
   "cell_type": "code",
   "execution_count": 2,
   "metadata": {
    "collapsed": false
   },
   "outputs": [
    {
     "name": "stdout",
     "output_type": "stream",
     "text": [
      "Thread-7\n",
      "\n",
      "8\n",
      "()\n"
     ]
    },
    {
     "name": "stderr",
     "output_type": "stream",
     "text": [
      "DEBUG:threading_example:doubler function executing\n",
      "DEBUG:threading_example:doubler function ended with: 0\n",
      "DEBUG:threading_example:doubler function executing\n",
      "DEBUG:threading_example:doubler function ended with: 2\n",
      "DEBUG:threading_example:doubler function executing\n",
      "DEBUG:threading_example:doubler function ended with: 4\n",
      "DEBUG:threading_example:doubler function executing\n",
      "DEBUG:threading_example:doubler function ended with: 6\n",
      "DEBUG:threading_example:doubler function executing\n",
      "DEBUG:threading_example:doubler function ended with: 8\n"
     ]
    }
   ],
   "source": [
    "import logging\n",
    "import threading\n",
    " \n",
    "def get_logger():\n",
    "    logger = logging.getLogger(\"threading_example\")\n",
    "    logger.setLevel(logging.DEBUG)\n",
    " \n",
    "    fh = logging.FileHandler(\"threading.log\")\n",
    "    fmt = '%(asctime)s - %(threadName)s - %(levelname)s - %(message)s'\n",
    "    formatter = logging.Formatter(fmt)\n",
    "    fh.setFormatter(formatter)\n",
    " \n",
    "    logger.addHandler(fh)\n",
    "    return logger\n",
    " \n",
    " \n",
    "def doubler(number, logger):\n",
    "    \"\"\"\n",
    "    A function that can be used by a thread\n",
    "    \"\"\"\n",
    "    logger.debug('doubler function executing')\n",
    "    result = number * 2\n",
    "    logger.debug('doubler function ended with: {}'.format(\n",
    "        result))\n",
    " \n",
    "  \n",
    "logger = get_logger()\n",
    "thread_names = ['Mike', 'George', 'Wanda', 'Dingbat', 'Nina']\n",
    "for i in range(5):\n",
    "    my_thread = threading.Thread(\n",
    "        target=doubler, name=thread_names[i], args=(i,logger))\n",
    "    my_thread.start()\n"
   ]
  },
  {
   "cell_type": "code",
   "execution_count": 3,
   "metadata": {
    "collapsed": false
   },
   "outputs": [
    {
     "name": "stderr",
     "output_type": "stream",
     "text": [
      "DEBUG:threading_example:Calling doubler\n",
      "DEBUG:threading_example:doubler function executing\n",
      "DEBUG:threading_example:doubler function ended with: 0\n",
      "DEBUG:threading_example:Calling doubler\n",
      "DEBUG:threading_example:doubler function executing\n",
      "DEBUG:threading_example:doubler function ended with: 2\n",
      "DEBUG:threading_example:Calling doubler\n",
      "DEBUG:threading_example:doubler function executing\n",
      "DEBUG:threading_example:doubler function ended with: 4\n",
      "DEBUG:threading_example:Calling doubler\n",
      "DEBUG:threading_example:doubler function executing\n",
      "DEBUG:threading_example:doubler function ended with: 6\n",
      "DEBUG:threading_example:Calling doubler\n",
      "DEBUG:threading_example:doubler function executing\n",
      "DEBUG:threading_example:doubler function ended with: 8\n"
     ]
    }
   ],
   "source": [
    "import logging\n",
    "import threading\n",
    " \n",
    "class MyThread(threading.Thread):\n",
    " \n",
    "    def __init__(self, number, logger):\n",
    "        threading.Thread.__init__(self)\n",
    "        self.number = number\n",
    "        self.logger = logger\n",
    " \n",
    "    def run(self):\n",
    "        \"\"\"\n",
    "        Run the thread\n",
    "        \"\"\"\n",
    "        logger.debug('Calling doubler')\n",
    "        doubler(self.number, self.logger)\n",
    " \n",
    " \n",
    "def get_logger():\n",
    "    logger = logging.getLogger(\"threading_example\")\n",
    "    logger.setLevel(logging.DEBUG)\n",
    " \n",
    "    fh = logging.FileHandler(\"threading_class.log\")\n",
    "    fmt = '%(asctime)s - %(threadName)s - %(levelname)s - %(message)s'\n",
    "    formatter = logging.Formatter(fmt)\n",
    "    fh.setFormatter(formatter)\n",
    " \n",
    "    logger.addHandler(fh)\n",
    "    return logger\n",
    " \n",
    " \n",
    "def doubler(number, logger):\n",
    "    \"\"\"\n",
    "    A function that can be used by a thread\n",
    "    \"\"\"\n",
    "    logger.debug('doubler function executing')\n",
    "    result = number * 2\n",
    "    logger.debug('doubler function ended with: {}'.format(\n",
    "        result))\n",
    " \n",
    "  \n",
    "logger = get_logger()\n",
    "thread_names = ['Mike', 'George', 'Wanda', 'Dingbat', 'Nina']\n",
    "for i in range(5):\n",
    "    thread = MyThread(i, logger)\n",
    "    thread.setName(thread_names[i])\n",
    "    thread.start()\n"
   ]
  },
  {
   "cell_type": "code",
   "execution_count": 4,
   "metadata": {
    "collapsed": false
   },
   "outputs": [
    {
     "name": "stdout",
     "output_type": "stream",
     "text": [
      "5\n",
      "10\n",
      "15\n",
      "20\n",
      "25\n",
      "30\n",
      "35\n",
      "40\n",
      "45\n"
     ]
    }
   ],
   "source": [
    "import threading\n",
    " \n",
    "total = 0\n",
    " \n",
    "def update_total(amount):\n",
    "    \"\"\"\n",
    "    Updates the total by the given amount\n",
    "    \"\"\"\n",
    "    global total\n",
    "    total += amount\n",
    "    print (total)\n",
    " \n",
    " \n",
    "for i in range(10):\n",
    "    my_thread = threading.Thread(\n",
    "        target=update_total, args=(5,))\n",
    "    my_thread.start()\n"
   ]
  },
  {
   "cell_type": "code",
   "execution_count": 5,
   "metadata": {
    "collapsed": false
   },
   "outputs": [
    {
     "name": "stdout",
     "output_type": "stream",
     "text": [
      "50\n",
      "5\n",
      "10\n",
      "15\n",
      "20\n",
      "25\n",
      "30\n",
      "35\n",
      "40\n",
      "45\n"
     ]
    }
   ],
   "source": [
    "import threading\n",
    " \n",
    "total = 0\n",
    "lock = threading.Lock()\n",
    " \n",
    "def update_total(amount):\n",
    "    \"\"\"\n",
    "    Updates the total by the given amount\n",
    "    \"\"\"\n",
    "    global total\n",
    "    lock.acquire()\n",
    "    try:\n",
    "        total += amount\n",
    "    finally:\n",
    "        lock.release()\n",
    "    print (total)\n",
    " \n",
    "\n",
    "for i in range(10):\n",
    "    my_thread = threading.Thread(\n",
    "        target=update_total, args=(5,))\n",
    "    my_thread.start()\n"
   ]
  },
  {
   "cell_type": "code",
   "execution_count": 6,
   "metadata": {
    "collapsed": false
   },
   "outputs": [
    {
     "name": "stdout",
     "output_type": "stream",
     "text": [
      "50\n",
      "5\n",
      "10\n",
      "15\n",
      "20\n",
      "25\n",
      "30\n",
      "35\n",
      "40\n",
      "45\n",
      "50\n"
     ]
    }
   ],
   "source": [
    "import threading\n",
    " \n",
    "total = 0\n",
    "lock = threading.Lock()\n",
    " \n",
    "def update_total(amount):\n",
    "    \"\"\"\n",
    "    Updates the total by the given amount\n",
    "    \"\"\"\n",
    "    global total\n",
    "    with lock:\n",
    "        total += amount\n",
    "    print (total)\n",
    " \n",
    "\n",
    "for i in range(10):\n",
    "    my_thread = threading.Thread(\n",
    "        target=update_total, args=(5,))\n",
    "    my_thread.start()\n"
   ]
  },
  {
   "cell_type": "code",
   "execution_count": 7,
   "metadata": {
    "collapsed": false
   },
   "outputs": [
    {
     "name": "stdout",
     "output_type": "stream",
     "text": [
      "Lock acquired in the do_something function\n",
      "Lock released in the do_something function\n",
      "Lock acquired in the do_something_else function\n",
      "Lock released in the do_something_else function\n"
     ]
    }
   ],
   "source": [
    "import threading\n",
    " \n",
    "total = 0\n",
    "lock = threading.Lock()\n",
    " \n",
    " \n",
    "def do_something():\n",
    "    lock.acquire()\n",
    " \n",
    "    try:\n",
    "        print('Lock acquired in the do_something function')\n",
    "    finally:\n",
    "        lock.release()\n",
    "        print('Lock released in the do_something function')\n",
    " \n",
    "    return \"Done doing something\"\n",
    " \n",
    "def do_something_else():\n",
    "    lock.acquire()\n",
    " \n",
    "    try:\n",
    "        print('Lock acquired in the do_something_else function')\n",
    "    finally:\n",
    "        lock.release()\n",
    "        print('Lock released in the do_something_else function')\n",
    " \n",
    "    return \"Finished something else\"\n",
    " \n",
    "\n",
    "result_one = do_something()\n",
    "result_two = do_something_else()"
   ]
  },
  {
   "cell_type": "code",
   "execution_count": 8,
   "metadata": {
    "collapsed": false
   },
   "outputs": [
    {
     "name": "stdout",
     "output_type": "stream",
     "text": [
      "Lock acquired in the do_something function\n",
      "Lock released in the do_something function\n",
      "Lock acquired in the do_something_else function\n",
      "Lock released in the do_something_else function\n",
      "Done doing something\n",
      "Finished something else\n"
     ]
    }
   ],
   "source": [
    "import threading\n",
    " \n",
    "total = 0\n",
    "lock = threading.RLock()\n",
    " \n",
    "def do_something():\n",
    " \n",
    "    with lock:\n",
    "        print('Lock acquired in the do_something function')\n",
    "    print('Lock released in the do_something function')\n",
    " \n",
    "    return \"Done doing something\"\n",
    " \n",
    "def do_something_else():\n",
    "    with lock:\n",
    "        print('Lock acquired in the do_something_else function')\n",
    "    print('Lock released in the do_something_else function')\n",
    " \n",
    "    return \"Finished something else\"\n",
    " \n",
    " \n",
    "def main():\n",
    "    with lock:\n",
    "        result_one = do_something()\n",
    "        result_two = do_something_else()\n",
    " \n",
    "    print (result_one)\n",
    "    print (result_two)\n",
    " \n",
    "\n",
    "main()\n"
   ]
  },
  {
   "cell_type": "code",
   "execution_count": 9,
   "metadata": {
    "collapsed": false
   },
   "outputs": [
    {
     "name": "stdout",
     "output_type": "stream",
     "text": [
      "\n"
     ]
    }
   ],
   "source": [
    "import subprocess\n",
    " \n",
    "from threading import Timer\n",
    " \n",
    "kill = lambda process: process.kill()\n",
    "cmd = ['ping', 'www.google.com']\n",
    "ping = subprocess.Popen(\n",
    "    cmd, stdout=subprocess.PIPE, stderr=subprocess.PIPE)\n",
    " \n",
    "my_timer = Timer(5, kill, [ping])\n",
    " \n",
    "try:\n",
    "    my_timer.start()\n",
    "    stdout, stderr = ping.communicate()\n",
    "finally:\n",
    "    my_timer.cancel()\n",
    " \n",
    "print (str(stdout))"
   ]
  },
  {
   "cell_type": "code",
   "execution_count": 10,
   "metadata": {
    "collapsed": false
   },
   "outputs": [
    {
     "ename": "ImportError",
     "evalue": "No module named queue",
     "output_type": "error",
     "traceback": [
      "\u001b[1;31m---------------------------------------------------------------------------\u001b[0m",
      "\u001b[1;31mImportError\u001b[0m                               Traceback (most recent call last)",
      "\u001b[1;32m<ipython-input-10-4d86fe0f6b6c>\u001b[0m in \u001b[0;36m<module>\u001b[1;34m()\u001b[0m\n\u001b[0;32m      1\u001b[0m \u001b[1;32mimport\u001b[0m \u001b[0mthreading\u001b[0m\u001b[1;33m\u001b[0m\u001b[0m\n\u001b[0;32m      2\u001b[0m \u001b[1;33m\u001b[0m\u001b[0m\n\u001b[1;32m----> 3\u001b[1;33m \u001b[1;32mfrom\u001b[0m \u001b[0mqueue\u001b[0m \u001b[1;32mimport\u001b[0m \u001b[0mQueue\u001b[0m\u001b[1;33m\u001b[0m\u001b[0m\n\u001b[0m\u001b[0;32m      4\u001b[0m \u001b[1;33m\u001b[0m\u001b[0m\n\u001b[0;32m      5\u001b[0m \u001b[1;33m\u001b[0m\u001b[0m\n",
      "\u001b[1;31mImportError\u001b[0m: No module named queue"
     ]
    }
   ],
   "source": [
    "import threading\n",
    " \n",
    "from queue import Queue\n",
    " \n",
    " \n",
    "def creator(data, q):\n",
    "    \"\"\"\n",
    "    Creates data to be consumed and waits for the consumer\n",
    "    to finish processing\n",
    "    \"\"\"\n",
    "    print('Creating data and putting it on the queue')\n",
    "    for item in data:\n",
    "        evt = threading.Event()\n",
    "        q.put((item, evt))\n",
    " \n",
    "        print('Waiting for data to be doubled')\n",
    "        evt.wait()\n",
    " \n",
    " \n",
    "def my_consumer(q):\n",
    "    \"\"\"\n",
    "    Consumes some data and works on it\n",
    " \n",
    "    In this case, all it does is double the input\n",
    "    \"\"\"\n",
    "    while True:\n",
    "        data, evt = q.get()\n",
    "        print('data found to be processed: {}'.format(data))\n",
    "        processed = data * 2\n",
    "        print(processed)\n",
    "        evt.set()\n",
    "        q.task_done()\n",
    " \n",
    " \n",
    "\n",
    "q = Queue()\n",
    "data = [5, 10, 13, -1]\n",
    "thread_one = threading.Thread(target=creator, args=(data, q))\n",
    "thread_two = threading.Thread(target=my_consumer, args=(q,))\n",
    "thread_one.start()\n",
    "thread_two.start()\n",
    "\n",
    "q.join()\n"
   ]
  },
  {
   "cell_type": "code",
   "execution_count": 11,
   "metadata": {
    "collapsed": false
   },
   "outputs": [
    {
     "name": "stdout",
     "output_type": "stream",
     "text": [
      "Collecting queue\n",
      "\u001b[31m  Could not find a version that satisfies the requirement queue (from versions: )\u001b[0m\n",
      "\u001b[31mNo matching distribution found for queue\u001b[0m\n"
     ]
    }
   ],
   "source": [
    "!pip install queue"
   ]
  },
  {
   "cell_type": "code",
   "execution_count": null,
   "metadata": {
    "collapsed": true
   },
   "outputs": [],
   "source": []
  }
 ],
 "metadata": {
  "kernelspec": {
   "display_name": "Python 2",
   "language": "python",
   "name": "python2"
  },
  "language_info": {
   "codemirror_mode": {
    "name": "ipython",
    "version": 2
   },
   "file_extension": ".py",
   "mimetype": "text/x-python",
   "name": "python",
   "nbconvert_exporter": "python",
   "pygments_lexer": "ipython2",
   "version": "2.7.12"
  }
 },
 "nbformat": 4,
 "nbformat_minor": 0
}
